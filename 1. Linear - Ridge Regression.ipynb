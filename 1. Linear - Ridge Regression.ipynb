{
 "cells": [
  {
   "cell_type": "markdown",
   "metadata": {},
   "source": [
    "## Define Variables and Parameters"
   ]
  },
  {
   "cell_type": "code",
   "execution_count": 25,
   "metadata": {},
   "outputs": [],
   "source": [
    "observations_experienced = [[1,2,6,2], [1,1,5,7], [1,5,2,1], [1,2,3,8], [1,4,4,0]]\n",
    "X_experienced = [[1,2,6], [1,1,5], [1,5,2], [1,2,3], [1,4,4]]\n",
    "Y_experienced = [2, 7, 1, 8, 0]\n",
    "observations_novice = [[1,2,3,4], [1,1,5,2.5], [1,2,2,6], [1,2,3,4], [1,3,1,5.5]]\n",
    "X_novice = [[1,2,3], [1,1,5], [1,2,2], [1,2,3], [1,3,1]]\n",
    "Y_novice = [4, 2.5, 6, 4, 5.5]"
   ]
  },
  {
   "cell_type": "markdown",
   "metadata": {},
   "source": [
    "### 3.3.1 Linear Regression "
   ]
  },
  {
   "cell_type": "code",
   "execution_count": 26,
   "metadata": {},
   "outputs": [
    {
     "name": "stdout",
     "output_type": "stream",
     "text": [
      "For Linear Regression of Experienced Workers:\n",
      "Intercept = Theta 0 = 19.999999999999993\n",
      "Theta 1 = -2.9999999999999996\n",
      "Theta 2 = -1.9999999999999987\n"
     ]
    }
   ],
   "source": [
    "import numpy as np \n",
    "import pandas as pd\n",
    "from sklearn.linear_model import LinearRegression\n",
    "\n",
    "\n",
    "regressor = LinearRegression().fit(X_experienced, Y_experienced)\n",
    "\n",
    "#print thetas\n",
    "print(\"For Linear Regression of Experienced Workers:\")\n",
    "print(\"Intercept = Theta 0 =\", regressor.intercept_)\n",
    "for t in range (1,len(regressor.coef_)):\n",
    " print(\"Theta\", t, \"=\", regressor.coef_ [t])\n",
    "\n"
   ]
  },
  {
   "cell_type": "markdown",
   "metadata": {},
   "source": [
    "### 3.3.2 Ridge"
   ]
  },
  {
   "cell_type": "code",
   "execution_count": 29,
   "metadata": {},
   "outputs": [
    {
     "name": "stdout",
     "output_type": "stream",
     "text": [
      "For Ridge Regression of Novice Workers:\n",
      "Intercept = Theta 0 = 6.8059701492537314\n",
      "Theta 1 = -0.07462686567164172\n",
      "Theta 2 = -0.8059701492537312\n"
     ]
    }
   ],
   "source": [
    "#from sklearn.model_selection import train_test_split\n",
    "#from sklearn.linear_model import Ridge\n",
    "\n",
    "from sklearn import linear_model\n",
    "\n",
    "ridge_rec = linear_model.Ridge()\n",
    "\n",
    "ridge_reg.fit(X_novice, Y_novice)\n",
    "\n",
    "\n",
    "#print thetas\n",
    "print(\"For Ridge Regression of Novice Workers:\")\n",
    "print(\"Intercept = Theta 0 =\", ridge_reg.intercept_)\n",
    "for t in range (1,len(ridge_reg.coef_)):\n",
    " print(\"Theta\", t, \"=\", ridge_reg.coef_ [t])\n",
    "\n"
   ]
  },
  {
   "cell_type": "code",
   "execution_count": null,
   "metadata": {},
   "outputs": [],
   "source": []
  },
  {
   "cell_type": "code",
   "execution_count": null,
   "metadata": {},
   "outputs": [],
   "source": []
  },
  {
   "cell_type": "markdown",
   "metadata": {},
   "source": [
    "### Draft Work"
   ]
  },
  {
   "cell_type": "code",
   "execution_count": null,
   "metadata": {},
   "outputs": [
    {
     "data": {
      "text/plain": [
       "\"def splitlist(observations): \\n    row = len(observations)\\n    col = len(observations[0])\\n    \\n    #create list for X and Y\\n    X = [[0 for y in range(col-1)] for y in range(row)]\\n    Y = [[0 for y in range(0)] for y in range(row)]\\n    \\n    \\n    #Input X and Y into respective lists\\n    input_row = 0\\n    while input_row in range(row):\\n        input_col = 0\\n        while input_col in range (0,col-1):\\n            X [input_row][input_col] += observations [input_row][input_col]\\n            input_col += 1\\n        Y [input_row] += observations [input_row][input_col]\\n        input_row += 1\\n    print('X =', X)\\n    print('Y = ',Y) \\n    return X\\n\\n\\nsplitlist(observations_experienced)\""
      ]
     },
     "execution_count": 5,
     "metadata": {},
     "output_type": "execute_result"
    }
   ],
   "source": [
    "#Split up lists into X and Y\n",
    "\n",
    "'''def splitlist(observations): \n",
    "    row = len(observations)\n",
    "    col = len(observations[0])\n",
    "    \n",
    "    #create list for X and Y\n",
    "    X = [[0 for y in range(col-1)] for y in range(row)]\n",
    "    Y = [[0 for y in range(0)] for y in range(row)]\n",
    "    \n",
    "    \n",
    "    #Input X and Y into respective lists\n",
    "    input_row = 0\n",
    "    while input_row in range(row):\n",
    "        input_col = 0\n",
    "        while input_col in range (0,col-1):\n",
    "            X [input_row][input_col] += observations [input_row][input_col]\n",
    "            input_col += 1\n",
    "        Y [input_row] += observations [input_row][input_col]\n",
    "        input_row += 1\n",
    "    print('X =', X)\n",
    "    print('Y = ',Y) \n",
    "    return X\n",
    "\n",
    "\n",
    "splitlist(observations_experienced)'''\n"
   ]
  },
  {
   "cell_type": "code",
   "execution_count": null,
   "metadata": {},
   "outputs": [],
   "source": []
  },
  {
   "cell_type": "code",
   "execution_count": null,
   "metadata": {},
   "outputs": [],
   "source": []
  },
  {
   "cell_type": "code",
   "execution_count": null,
   "metadata": {},
   "outputs": [],
   "source": []
  },
  {
   "cell_type": "code",
   "execution_count": null,
   "metadata": {},
   "outputs": [],
   "source": []
  },
  {
   "cell_type": "code",
   "execution_count": null,
   "metadata": {},
   "outputs": [],
   "source": []
  },
  {
   "cell_type": "code",
   "execution_count": null,
   "metadata": {},
   "outputs": [],
   "source": []
  },
  {
   "cell_type": "code",
   "execution_count": null,
   "metadata": {},
   "outputs": [],
   "source": []
  }
 ],
 "metadata": {
  "interpreter": {
   "hash": "47dc133e8ee860b7ee8fc99469f8ae846d4577bfb47e6172c19a4001a051aace"
  },
  "kernelspec": {
   "display_name": "Python 3.9.7 64-bit ('498A': conda)",
   "language": "python",
   "name": "python3"
  },
  "language_info": {
   "codemirror_mode": {
    "name": "ipython",
    "version": 3
   },
   "file_extension": ".py",
   "mimetype": "text/x-python",
   "name": "python",
   "nbconvert_exporter": "python",
   "pygments_lexer": "ipython3",
   "version": "3.9.7"
  },
  "orig_nbformat": 4
 },
 "nbformat": 4,
 "nbformat_minor": 2
}
