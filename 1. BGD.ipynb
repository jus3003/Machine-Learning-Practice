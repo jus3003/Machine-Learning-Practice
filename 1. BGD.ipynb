{
 "cells": [
  {
   "cell_type": "markdown",
   "metadata": {},
   "source": [
    "### Define Variables and Parameters"
   ]
  },
  {
   "cell_type": "code",
   "execution_count": 1,
   "metadata": {},
   "outputs": [
    {
     "name": "stdout",
     "output_type": "stream",
     "text": [
      "numcols = 4\n",
      "numrows = 5\n",
      "numthetas = 3\n"
     ]
    }
   ],
   "source": [
    "#define variables\n",
    "alpha = 0.01\n",
    "numepochs = 1\n",
    "thetalist = [20, 1, -2]\n",
    "#input thetalist into thetalistreset / for resetting the thetalist to original when iterating epochs using SGD\n",
    "thetalistreset = [20, 1 , -2]\n",
    "\n",
    "#observations novice\n",
    "observations = [[1,2,3,4], [1,1,5,2.5], [1,2,2,6], [1,2,3,4], [1,3,1,5.5]]\n",
    "\n",
    "#table dimensions\n",
    "numcols = len(observations[0])\n",
    "numrows = len(observations)\n",
    "print('numcols =', numcols)\n",
    "print('numrows =',numrows)\n",
    "\n",
    "#number of theta values\n",
    "numthetas = len(thetalist)\n",
    "print ('numthetas =',numthetas)"
   ]
  },
  {
   "cell_type": "markdown",
   "metadata": {},
   "source": [
    "### 3.2 BGD"
   ]
  },
  {
   "cell_type": "code",
   "execution_count": 2,
   "metadata": {},
   "outputs": [],
   "source": [
    "# Function: determine lost function\n",
    "# i = training example (starting from 0)\n",
    "# j = Xj value in training example\n",
    "\n",
    "def lostfunc(i):\n",
    "    j = 0\n",
    "    lost = 0\n",
    "    while j in range((numcols-1)):\n",
    "        lost += thetalist[j] * observations[i][j]\n",
    "        j += 1\n",
    "    lost -= observations[i][j]\n",
    "    return (lost)\n"
   ]
  },
  {
   "cell_type": "code",
   "execution_count": 3,
   "metadata": {},
   "outputs": [],
   "source": [
    "#Function: For a given theta, sum the products of lost function * x value for a given set of training examples\n",
    "\n",
    "def sumtrainingexamples (theta):\n",
    "    i = 0\n",
    "    sumtrainingexamples = 0\n",
    "    while i in range(numrows):\n",
    "        sumtrainingexamples += lostfunc(i) * observations [i][theta]\n",
    "        i += 1 \n",
    "    return sumtrainingexamples"
   ]
  },
  {
   "cell_type": "code",
   "execution_count": 4,
   "metadata": {},
   "outputs": [],
   "source": [
    "#Function: update thetas for 1 epoch\n",
    "#i = training example (starting from 0)\n",
    "#theta = theta value\n",
    "\n",
    "def updatethetas ():\n",
    "    theta = 0\n",
    "    sumtrainingexamplelist = [0, 0 , 0]\n",
    "    while theta in range(numthetas):\n",
    "        sumtrainingexamplelist [theta] += sumtrainingexamples(theta)\n",
    "        theta += 1 \n",
    "    theta = 0\n",
    "    while theta in range (numthetas):\n",
    "        thetalist [theta] -= alpha * sumtrainingexamplelist [theta]\n",
    "        theta += 1\n",
    "    return thetalist\n"
   ]
  },
  {
   "cell_type": "code",
   "execution_count": 5,
   "metadata": {},
   "outputs": [],
   "source": [
    "#Function: iterate num of epochs\n",
    "# e = number of epochs\n",
    "\n",
    "def optimumepochs (e): \n",
    "    epochnum = 1\n",
    "    #resetting the thetalist\n",
    "    for col in range (numthetas):\n",
    "        thetalist [col] = thetalistreset [col]\n",
    "    while epochnum <= e:\n",
    "        updatethetas() \n",
    "        epochnum += 1\n",
    "    print('Final thetas for', epochnum -1, 'epochs =', '[theta0, theta1, theta2] =' , thetalist)\n",
    "\n"
   ]
  },
  {
   "cell_type": "markdown",
   "metadata": {},
   "source": [
    "### 3.2 BGD Answer"
   ]
  },
  {
   "cell_type": "code",
   "execution_count": 6,
   "metadata": {},
   "outputs": [
    {
     "name": "stdout",
     "output_type": "stream",
     "text": [
      "Final thetas for 10 epochs = [theta0, theta1, theta2] = [18.823467702527566, -2.241731063230818, -3.391644303783097]\n",
      "Final thetas for 100 epochs = [theta0, theta1, theta2] = [18.50385834099181, -3.5515510007519593, -2.4964235032029007]\n",
      "Final thetas for 1000 epochs = [theta0, theta1, theta2] = [18.06085212610726, -3.41931059023182, -2.433228742282156]\n"
     ]
    }
   ],
   "source": [
    "#Answer \n",
    "optimumepochs(10)\n",
    "optimumepochs(100)\n",
    "optimumepochs(1000)"
   ]
  },
  {
   "cell_type": "markdown",
   "metadata": {},
   "source": []
  },
  {
   "cell_type": "code",
   "execution_count": null,
   "metadata": {},
   "outputs": [],
   "source": []
  },
  {
   "cell_type": "code",
   "execution_count": null,
   "metadata": {},
   "outputs": [],
   "source": []
  },
  {
   "cell_type": "code",
   "execution_count": null,
   "metadata": {},
   "outputs": [],
   "source": []
  },
  {
   "cell_type": "code",
   "execution_count": null,
   "metadata": {},
   "outputs": [],
   "source": []
  },
  {
   "cell_type": "code",
   "execution_count": null,
   "metadata": {},
   "outputs": [],
   "source": []
  },
  {
   "cell_type": "code",
   "execution_count": null,
   "metadata": {},
   "outputs": [],
   "source": []
  }
 ],
 "metadata": {
  "interpreter": {
   "hash": "47dc133e8ee860b7ee8fc99469f8ae846d4577bfb47e6172c19a4001a051aace"
  },
  "kernelspec": {
   "display_name": "Python 3.9.7 64-bit ('498A': conda)",
   "language": "python",
   "name": "python3"
  },
  "language_info": {
   "codemirror_mode": {
    "name": "ipython",
    "version": 3
   },
   "file_extension": ".py",
   "mimetype": "text/x-python",
   "name": "python",
   "nbconvert_exporter": "python",
   "pygments_lexer": "ipython3",
   "version": "3.9.7"
  },
  "orig_nbformat": 4
 },
 "nbformat": 4,
 "nbformat_minor": 2
}
